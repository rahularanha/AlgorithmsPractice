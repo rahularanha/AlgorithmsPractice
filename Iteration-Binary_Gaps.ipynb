{
 "cells": [
  {
   "cell_type": "markdown",
   "metadata": {},
   "source": [
    "# Binary Gap"
   ]
  },
  {
   "cell_type": "markdown",
   "metadata": {},
   "source": [
    "A binary gap within a positive integer N is any maximal sequence of consecutive zeros that is surrounded by ones at \n",
    "both ends in the binary representation of N.\n",
    "\n",
    "For example, number 9 has binary representation 1001 and contains a binary gap of length 2. \n",
    "The number 529 has binary representation 1000010001 and contains two binary gaps: one of length 4 and one of length 3. \n",
    "The number 20 has binary representation 10100 and contains one binary gap of length 1. \n",
    "The number 15 has binary representation 1111 and has no binary gaps. \n",
    "The number 32 has binary representation 100000 and has no binary gaps.\n",
    "\n",
    "Write a function:\n",
    "\n",
    "    def solution(N)\n",
    "\n",
    "that, given a positive integer N, returns the length of its longest binary gap. \n",
    "The function should return 0 if N doesn't contain a binary gap.\n",
    "\n",
    "For example, given N = 1041 the function should return 5, because N has binary representation 10000010001 and so its longest binary gap is of length 5. Given N = 32 the function should return 0, because N has binary representation '100000' and thus no binary gaps.\n",
    "\n",
    "Write an efficient algorithm for the following assumptions:\n",
    "\n",
    "N is an integer within the range [1..2,147,483,647]."
   ]
  },
  {
   "cell_type": "code",
   "execution_count": 12,
   "metadata": {},
   "outputs": [],
   "source": [
    "# write your code in Python 3.6\n",
    "\n",
    "# you can write to stdout for debugging purposes, e.g.\n",
    "# print(\"this is a debug message\")\n",
    "\n",
    "#import math\n",
    "\n",
    "def solution(N):\n",
    "    \n",
    "    #iterr = int(math.log2(N)) + 1\n",
    "    val = N\n",
    "    binary = 0 \n",
    "    max_gap = 0 \n",
    "    gapcounter = 0\n",
    "    lever = 0\n",
    "    \n",
    "    while val>0:\n",
    "        \n",
    "        binary = val%2          # retrieving binary value as remainder\n",
    "        \n",
    "        if binary == 0:\n",
    "            gapcounter += 1     # increase as long as zeros\n",
    "        else:\n",
    "            lever += 1          # increase when 1 encountered\n",
    "            \n",
    "            if lever >= 2:       # assign when 1 and genuine gap\n",
    "                if gapcounter > max_gap:     \n",
    "                    max_gap = gapcounter   # check if gapcounter is max value\n",
    "            \n",
    "            gapcounter = 0        # reset when 1 encountered\n",
    "            \n",
    "        val = int(val/2)        # reducing quotient\n",
    "        \n",
    "    #pass\n",
    "    return max_gap"
   ]
  },
  {
   "cell_type": "code",
   "execution_count": 14,
   "metadata": {},
   "outputs": [
    {
     "data": {
      "text/plain": [
       "4"
      ]
     },
     "execution_count": 14,
     "metadata": {},
     "output_type": "execute_result"
    }
   ],
   "source": [
    "solution(529)"
   ]
  }
 ],
 "metadata": {
  "kernelspec": {
   "display_name": "Python 3",
   "language": "python",
   "name": "python3"
  },
  "language_info": {
   "codemirror_mode": {
    "name": "ipython",
    "version": 3
   },
   "file_extension": ".py",
   "mimetype": "text/x-python",
   "name": "python",
   "nbconvert_exporter": "python",
   "pygments_lexer": "ipython3",
   "version": "3.7.1"
  }
 },
 "nbformat": 4,
 "nbformat_minor": 2
}
